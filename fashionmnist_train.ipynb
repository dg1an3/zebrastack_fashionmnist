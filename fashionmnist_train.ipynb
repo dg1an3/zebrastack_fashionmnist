{
 "metadata": {
  "language_info": {
   "codemirror_mode": {
    "name": "ipython",
    "version": 3
   },
   "file_extension": ".py",
   "mimetype": "text/x-python",
   "name": "python",
   "nbconvert_exporter": "python",
   "pygments_lexer": "ipython3",
   "version": "3.8.6-final"
  },
  "orig_nbformat": 2,
  "kernelspec": {
   "name": "python3",
   "display_name": "Python 3.8.6 64-bit",
   "metadata": {
    "interpreter": {
     "hash": "0683780d03ee1195a9e1ac19e401b8f6c3447ee82d0b15d335dacfb764b91f68"
    }
   }
  }
 },
 "nbformat": 4,
 "nbformat_minor": 2,
 "cells": [
  {
   "cell_type": "code",
   "execution_count": 1,
   "metadata": {
    "tags": []
   },
   "outputs": [
    {
     "output_type": "stream",
     "name": "stderr",
     "text": [
      "root.<module>\ttensorflow version 2.4.0\n"
     ]
    }
   ],
   "source": [
    "import tensorflow as tf\n",
    "import logging\n",
    "from autologging import logged, traced, TRACE\n",
    "logging.basicConfig(level=logging.INFO, format=\"%(name)s.%(funcName)s\\t%(message)s\")\n",
    "logging.info(f\"tensorflow version {tf.version.VERSION}\")"
   ]
  },
  {
   "cell_type": "code",
   "execution_count": 2,
   "metadata": {
    "tags": []
   },
   "outputs": [
    {
     "output_type": "error",
     "ename": "ModuleNotFoundError",
     "evalue": "No module named 'ZebraStackModelV2'",
     "traceback": [
      "\u001b[1;31m---------------------------------------------------------------------------\u001b[0m",
      "\u001b[1;31mModuleNotFoundError\u001b[0m                       Traceback (most recent call last)",
      "\u001b[1;32m<ipython-input-2-a7634b29ccc2>\u001b[0m in \u001b[0;36m<module>\u001b[1;34m\u001b[0m\n\u001b[0;32m      1\u001b[0m \u001b[1;32mimport\u001b[0m \u001b[0mnumpy\u001b[0m \u001b[1;32mas\u001b[0m \u001b[0mnp\u001b[0m\u001b[1;33m\u001b[0m\u001b[1;33m\u001b[0m\u001b[0m\n\u001b[1;32m----> 2\u001b[1;33m \u001b[1;32mfrom\u001b[0m \u001b[0mZebraStackModelV2\u001b[0m \u001b[1;32mimport\u001b[0m \u001b[0mprepare_images\u001b[0m\u001b[1;33m\u001b[0m\u001b[1;33m\u001b[0m\u001b[0m\n\u001b[0m\u001b[0;32m      3\u001b[0m \u001b[1;33m\u001b[0m\u001b[0m\n\u001b[0;32m      4\u001b[0m \u001b[1;32mfrom\u001b[0m \u001b[0mtensorflow\u001b[0m \u001b[1;32mimport\u001b[0m \u001b[0mkeras\u001b[0m\u001b[1;33m\u001b[0m\u001b[1;33m\u001b[0m\u001b[0m\n\u001b[0;32m      5\u001b[0m \u001b[1;33m(\u001b[0m\u001b[0mtrain_images\u001b[0m\u001b[1;33m,\u001b[0m \u001b[0m_\u001b[0m\u001b[1;33m)\u001b[0m\u001b[1;33m,\u001b[0m \u001b[1;33m(\u001b[0m\u001b[0mtest_images\u001b[0m\u001b[1;33m,\u001b[0m \u001b[0m_\u001b[0m\u001b[1;33m)\u001b[0m \u001b[1;33m=\u001b[0m \u001b[0mkeras\u001b[0m\u001b[1;33m.\u001b[0m\u001b[0mdatasets\u001b[0m\u001b[1;33m.\u001b[0m\u001b[0mfashion_mnist\u001b[0m\u001b[1;33m.\u001b[0m\u001b[0mload_data\u001b[0m\u001b[1;33m(\u001b[0m\u001b[1;33m)\u001b[0m\u001b[1;33m\u001b[0m\u001b[1;33m\u001b[0m\u001b[0m\n",
      "\u001b[1;31mModuleNotFoundError\u001b[0m: No module named 'ZebraStackModelV2'"
     ]
    }
   ],
   "source": [
    "import numpy as np\n",
    "from zebrastack_model_v2 import prepare_images\n",
    "\n",
    "from tensorflow import keras\n",
    "(train_images, _), (test_images, _) = keras.datasets.fashion_mnist.load_data()\n",
    "train_images, test_images = train_images[:len(train_images)//1], test_images[:len(test_images)//1]\n",
    "logging.info(f\"train_images: {train_images.shape} {train_images.dtype}\")\n",
    "\n",
    "train_images = prepare_images(train_images)\n",
    "test_images = prepare_images(test_images)"
   ]
  },
  {
   "cell_type": "code",
   "execution_count": null,
   "metadata": {},
   "outputs": [],
   "source": [
    "import tensorflow as tf\n",
    "from ZebraStackModelV2 import ZebraStackModel\n",
    "\n",
    "model = ZebraStackModel(latent_dim=8)\n",
    "model.encoder.summary()\n",
    "\n",
    "retina = model.encoder.input\n",
    "dense_shape = model.encoder.get_layer('ait_local').output_shape\n",
    "output = model.encoder.get_layer('z_mean_log_var')\n",
    "logging.info(f\"{retina} {dense_shape} {output}\")\n",
    "\n",
    "model.decoder.summary()"
   ]
  },
  {
   "cell_type": "code",
   "execution_count": null,
   "metadata": {
    "tags": []
   },
   "outputs": [],
   "source": [
    "model.train(train_images, test_images)"
   ]
  },
  {
   "cell_type": "code",
   "execution_count": null,
   "metadata": {},
   "outputs": [],
   "source": [
    "import matplotlib.pyplot as plt\n",
    "test_latent = encoder(test_images[0:10,...])\n",
    "\n",
    "def sigmoid(x):\n",
    "    return np.exp(-np.logaddexp(0, -x))\n",
    "\n",
    "re_test_images = decoder(test_latent[...,0:8])\n",
    "re_test_images = sigmoid(re_test_images)\n",
    "\n",
    "quantiles = [0.05, 0.95]\n",
    "\n",
    "fig, ax = plt.subplots(2,10,figsize=(15,3))\n",
    "for n in range(10):\n",
    "    q_test = np.quantile(test_images[n],quantiles)\n",
    "    ax[0][n].imshow(test_images[n], cmap='gray', vmin=q_test[0], vmax=q_test[1])\n",
    "\n",
    "    reshape_test_image = np.reshape(re_test_images[n], (64,64))\n",
    "    q_re = np.quantile(reshape_test_image,quantiles)\n",
    "    ax[1][n].imshow(reshape_test_image, cmap='gray', vmin=q_re[0], vmax=q_re[1])"
   ]
  }
 ]
}