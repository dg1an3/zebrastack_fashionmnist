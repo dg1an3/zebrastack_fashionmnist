{
 "metadata": {
  "language_info": {
   "codemirror_mode": {
    "name": "ipython",
    "version": 3
   },
   "file_extension": ".py",
   "mimetype": "text/x-python",
   "name": "python",
   "nbconvert_exporter": "python",
   "pygments_lexer": "ipython3",
   "version": "3.8.6-final"
  },
  "orig_nbformat": 2,
  "kernelspec": {
   "name": "python3",
   "display_name": "Python 3.8.6 64-bit",
   "metadata": {
    "interpreter": {
     "hash": "0683780d03ee1195a9e1ac19e401b8f6c3447ee82d0b15d335dacfb764b91f68"
    }
   }
  }
 },
 "nbformat": 4,
 "nbformat_minor": 2,
 "cells": [
  {
   "cell_type": "code",
   "execution_count": null,
   "metadata": {
    "tags": []
   },
   "outputs": [],
   "source": [
    "import tensorflow as tf\n",
    "import logging\n",
    "from autologging import logged, traced, TRACE\n",
    "logging.basicConfig(level=logging.INFO, format=\"%(name)s.%(funcName)s\\t%(message)s\")\n",
    "logging.info(f\"tensorflow version {tf.version.VERSION}\")"
   ]
  },
  {
   "cell_type": "code",
   "execution_count": null,
   "metadata": {
    "tags": []
   },
   "outputs": [],
   "source": [
    "import numpy as np\n",
    "from zebrastack_model_v2 import prepare_images\n",
    "\n",
    "from tensorflow import keras\n",
    "(train_images, _), (test_images, _) = keras.datasets.fashion_mnist.load_data()\n",
    "train_images, test_images = train_images[:len(train_images)//1], test_images[:len(test_images)//1]\n",
    "logging.info(f\"train_images: {train_images.shape} {train_images.dtype}\")\n",
    "\n",
    "train_images = prepare_images(train_images)\n",
    "test_images = prepare_images(test_images)"
   ]
  },
  {
   "cell_type": "code",
   "execution_count": null,
   "metadata": {},
   "outputs": [],
   "source": [
    "from zebrastack_model_v2 import ZebraStackModel\n",
    "\n",
    "model = ZebraStackModel(latent_dim=8)\n",
    "model.encoder.summary()\n",
    "model.decoder.summary()"
   ]
  },
  {
   "cell_type": "code",
   "execution_count": null,
   "metadata": {
    "tags": []
   },
   "outputs": [],
   "source": [
    "from figure_callback import FigureCallback\n",
    "\n",
    "nb_callback = FigureCallback(fig)\n",
    "\n",
    "model.train(train_images, test_images, nb_callback)"
   ]
  },
  {
   "cell_type": "code",
   "execution_count": null,
   "metadata": {},
   "outputs": [],
   "source": []
  }
 ]
}